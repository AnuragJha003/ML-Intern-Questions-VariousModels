{
 "cells": [
  {
   "cell_type": "code",
   "execution_count": null,
   "id": "aace6e6a",
   "metadata": {},
   "outputs": [],
   "source": [
    "How To Learn Machine Learning Algorithms For Interviews\n",
    "Logistics Regression\n",
    "Theoretical Understanding:\n",
    "\n",
    "Tutorial 35:Logitic Regression Part 1 https://www.youtube.com/watch?v=L_xBe7MbPwk\n",
    "Tutorial 36:Logitic Regression Part 2 https://www.youtube.com/watch?v=uFfsSgQgerw\n",
    "Tutorial 39:Logitic Regression Part 3 https://www.youtube.com/watch?v=V8fS0T_ktn4\n",
    "Tutorial 42:How To Find Optimal Threshold for Binary classification: https://www.youtube.com/watch?v=_AjhdXuXEDE\n",
    "Interview question: https://www.youtube.com/watch?v=tcaruVHXZwE&t=122s\n",
    " \n",
    "1. What Are the Basic Assumption?\n",
    "Linear Relation between independent features and the log odds\n",
    "2. Advantages\n",
    "Advantages of Logistics Regression\n",
    "\n",
    "Logistic Regression Are very easy to understand\n",
    "It requires less training\n",
    "Good accuracy for many simple data sets and it performs well when the dataset is linearly separable.\n",
    "It makes no assumptions about distributions of classes in feature space.\n",
    "Logistic regression is less inclined to over-fitting but it can overfit in high dimensional datasets.One may consider Regularization (L1 and L2) techniques to avoid over-fittingin these scenarios.\n",
    "Logistic regression is easier to implement, interpret, and very efficient to train.\n",
    "3. Disadvantages\n",
    "Sometimes Lot of Feature Engineering Is required\n",
    "If the independent features are correlated it may affect performance\n",
    "It is often quite prone to noise and overfitting\n",
    "If the number of observations is lesser than the number of features, Logistic Regression should not be used, otherwise, it may lead to overfitting.\n",
    "Non-linear problems can’t be solved with logistic regression because it has a linear decision surface. Linearly separable data is rarely found in real-world scenarios.\n",
    "It is tough to obtain complex relationships using logistic regression. More powerful and compact algorithms such as Neural Networks can easily outperform this algorithm.\n",
    "In Linear Regression independent and dependent variables are related linearly. But Logistic Regression needs that independent variables are linearly related to the log odds (log(p/(1-p)).\n",
    "4. Whether Feature Scaling is required?\n",
    "yes\n",
    "\n",
    "5. Missing Values\n",
    "Sensitive to missing values\n",
    "\n",
    "6. Impact of outliers?\n",
    "Like linear regression, estimates of the logistic regression are sensitive to the unusual observations: outliers, high leverage, and influential observations. Numerical examples and analysis are presented to demonstrate the most recent outlier diagnostic methods using data sets from medical domain\n",
    "\n",
    "Types of Problems it can solve(Supervised)\n",
    "Classification\n",
    "Practical Implementation\n",
    "http://scikit-learn.org/stable/modules/generated/sklearn.linear_model.LogisticRegression.html\n",
    "Performance Metrics\n",
    "Classification\n",
    "Confusion Matrix\n",
    "Precision,Recall, F1 score\n",
    "\n",
    "Part 1 https://www.youtube.com/watch?v=aWAnNHXIKww\n",
    "\n",
    "Part 2 https://www.youtube.com/watch?v=A_ZKMsZ3f3o"
   ]
  }
 ],
 "metadata": {
  "kernelspec": {
   "display_name": "Python 3 (ipykernel)",
   "language": "python",
   "name": "python3"
  },
  "language_info": {
   "codemirror_mode": {
    "name": "ipython",
    "version": 3
   },
   "file_extension": ".py",
   "mimetype": "text/x-python",
   "name": "python",
   "nbconvert_exporter": "python",
   "pygments_lexer": "ipython3",
   "version": "3.9.12"
  }
 },
 "nbformat": 4,
 "nbformat_minor": 5
}
