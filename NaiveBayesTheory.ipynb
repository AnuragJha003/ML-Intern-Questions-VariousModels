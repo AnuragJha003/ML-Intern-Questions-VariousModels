{
 "cells": [
  {
   "cell_type": "code",
   "execution_count": null,
   "id": "2d54fd8f",
   "metadata": {},
   "outputs": [],
   "source": [
    "How To Learn Machine Learning Algorithms For Interviews\n",
    "Naive Bayes Classifier\n",
    "Theoretical Understanding:\n",
    "\n",
    "Tutorial 48th : https://www.youtube.com/watch?v=jS1CKhALUBQ\n",
    "Tutorial 49th: https://www.youtube.com/watch?v=temQ8mHpe3k\n",
    "1. What Are the Basic Assumption?\n",
    "Features Are Independent\n",
    "\n",
    "2. Advantages\n",
    "Work Very well with many number of features\n",
    "Works Well with Large training Dataset\n",
    "It converges faster when we are training the model\n",
    "It also performs well with categorical features\n",
    "3. Disadvantages\n",
    "Correlated features affects performance\n",
    "4. Whether Feature Scaling is required?\n",
    "No\n",
    "\n",
    "5. Impact of Missing Values?\n",
    "Naive Bayes can handle missing data. Attributes are handled separately by the algorithm at both model construction time and prediction time. As such, if a data instance has a missing value for an attribute, it can be ignored while preparing the model, and ignored when a probability is calculated for a class value tutorial :https://www.youtube.com/watch?v=EqjyLfpv5oA\n",
    "\n",
    "6. Impact of outliers?\n",
    "It is usually robust to outliers\n",
    "\n",
    "Different Problem statement you can solve using Naive Baye's\n",
    "Sentiment Analysis\n",
    "Spam classification\n",
    "twitter sentiment analysis\n",
    "document categorization"
   ]
  }
 ],
 "metadata": {
  "kernelspec": {
   "display_name": "Python 3 (ipykernel)",
   "language": "python",
   "name": "python3"
  },
  "language_info": {
   "codemirror_mode": {
    "name": "ipython",
    "version": 3
   },
   "file_extension": ".py",
   "mimetype": "text/x-python",
   "name": "python",
   "nbconvert_exporter": "python",
   "pygments_lexer": "ipython3",
   "version": "3.9.12"
  }
 },
 "nbformat": 4,
 "nbformat_minor": 5
}
